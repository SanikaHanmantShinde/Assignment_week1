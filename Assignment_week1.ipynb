{
 "cells": [
  {
   "cell_type": "markdown",
   "id": "e839e265-d274-4f20-904d-b86ab1a5b5bd",
   "metadata": {},
   "source": [
    "# write a program to convert specified days into years,weak,and days take user input (note:ignore leap year)\n"
   ]
  },
  {
   "cell_type": "code",
   "execution_count": 25,
   "id": "299a1749-d2a5-4afd-9575-621fcef6187e",
   "metadata": {},
   "outputs": [
    {
     "name": "stdin",
     "output_type": "stream",
     "text": [
      "enter days to convert it into years-weaks-days= 4\n"
     ]
    },
    {
     "name": "stdout",
     "output_type": "stream",
     "text": [
      "4 days\n"
     ]
    }
   ],
   "source": [
    "days=int(input('enter days to convert it into years-weaks-days='))\n",
    "if days>=366:\n",
    "    year=days//366\n",
    "    days=days-366*year\n",
    "    weak=days//7\n",
    "    days=days%7\n",
    "    print(year,'years',weak,'weaks',days,'days')\n",
    "elif days>=7:\n",
    "     weak=days//7\n",
    "     days=days%7\n",
    "     print(weak,'weaks',days,'days')\n",
    "else:\n",
    "     print(days,'days')"
   ]
  },
  {
   "cell_type": "markdown",
   "id": "ef1891a9-a0f0-4b38-8e3c-85aabdfd1b40",
   "metadata": {},
   "source": [
    "# write a python program to input basic python salary of an employee and calculate its Gross salary according to following:\n",
    "# Basic Salaary<=10000:HRD=20% DA=80%\n",
    "# Basic Salaary<=20000:HRD=30% DA=90%\n",
    "# Basic Salaary>20000:HRD=35% DA=95%"
   ]
  },
  {
   "cell_type": "code",
   "execution_count": 28,
   "id": "e2d26916-eca0-4a8f-a80e-f005ee378d86",
   "metadata": {},
   "outputs": [
    {
     "name": "stdin",
     "output_type": "stream",
     "text": [
      "enter your salary to calculate gross salary= 67000\n"
     ]
    },
    {
     "name": "stdout",
     "output_type": "stream",
     "text": [
      "Gross Salary= 154100.0\n"
     ]
    }
   ],
   "source": [
    "basic_salary=int(input('enter your salary to calculate gross salary='))\n",
    "if basic_salary<=10000:\n",
    "    hrd=0.2*basic_salary\n",
    "    da=0.8*basic_salary\n",
    "elif basic_salary<=20000:\n",
    "    hrd=0.3*basic_salary\n",
    "    da=0.9*basic_salary\n",
    "else:\n",
    "    hrd=0.35*basic_salary\n",
    "    da=0.95*basic_salary\n",
    "gross_salary=basic_salary+hrd+da\n",
    "print('Gross Salary=',gross_salary) "
   ]
  },
  {
   "cell_type": "markdown",
   "id": "6ab2ee07-0e0f-4254-9981-eb84cb4711bf",
   "metadata": {},
   "source": [
    "# write a python program to input electrical unit charges and calculate total electrical bill according to given condition:\n",
    "### for first 50 units   Rs.0.50/unit\n",
    "### for next 100 units   Rs.0.75/unit\n",
    "### for next 100 units   Rs.1.25/unit\n",
    "### for unit above 250   Rs.1.50/unit\n",
    "### an additional surcharge of 17% is added to the bill"
   ]
  },
  {
   "cell_type": "code",
   "execution_count": 33,
   "id": "f7a9d050-0bca-40e0-a091-bd3fa0d1c46f",
   "metadata": {},
   "outputs": [
    {
     "name": "stdout",
     "output_type": "stream",
     "text": [
      "**************Electricla Bill Calculator*********************\n"
     ]
    },
    {
     "name": "stdin",
     "output_type": "stream",
     "text": [
      "enter no.of units consumed= 250\n"
     ]
    },
    {
     "name": "stdout",
     "output_type": "stream",
     "text": [
      "Bill= 225.0\n",
      "Additional Surcharge is 17%\n",
      "Total bill= 263.25\n"
     ]
    }
   ],
   "source": [
    "print('**************Electricla Bill Calculator*********************')\n",
    "units=int(input('enter no.of units consumed='))\n",
    "if units<=50:\n",
    "    bill=0.50*units\n",
    "elif units<=150:\n",
    "   bill=(0.50*50)+(0.75*(units-50))\n",
    "elif units<=250:\n",
    "    bill=(0.50*50)+(0.75*100)+(1.25*(units-150))\n",
    "else:\n",
    "    bill=(0.50*50)+(0.75*100)+(1.25*100)+(1.50*(units-250))\n",
    "print('Bill=',bill)\n",
    "print('Additional Surcharge is 17%')\n",
    "surcharge=0.17*bill\n",
    "bill=bill+surcharge\n",
    "print('Total bill=',bill)"
   ]
  },
  {
   "cell_type": "markdown",
   "id": "26977918-623c-4b64-bc2b-ab6e5498fd9f",
   "metadata": {},
   "source": [
    "# write a python program to print given nunber patterns\n",
    "### 1\n",
    "### 2 2\n",
    "### 3 3 3\n",
    "### 4 4 4 4 \n",
    "### 5 5 5 5 5 \n"
   ]
  },
  {
   "cell_type": "code",
   "execution_count": 36,
   "id": "88e2949d-a9e0-4429-b8d7-7f7d07989943",
   "metadata": {},
   "outputs": [
    {
     "name": "stdout",
     "output_type": "stream",
     "text": [
      "1 \n",
      "2 2 \n",
      "3 3 3 \n",
      "4 4 4 4 \n",
      "5 5 5 5 5 \n"
     ]
    }
   ],
   "source": [
    "for i in range(1,6):\n",
    "    for j in range(i):\n",
    "        print(i,end=' ')\n",
    "    print()"
   ]
  },
  {
   "cell_type": "markdown",
   "id": "85408a3c-068b-4684-9acb-16afd89c54ba",
   "metadata": {},
   "source": [
    "# write python program to calculate product of digit of a number. read value of n from user"
   ]
  },
  {
   "cell_type": "code",
   "execution_count": 49,
   "id": "37f777f0-39da-4f7d-9b60-832e14a2bb90",
   "metadata": {},
   "outputs": [
    {
     "name": "stdin",
     "output_type": "stream",
     "text": [
      "enter no.= 308\n"
     ]
    },
    {
     "name": "stdout",
     "output_type": "stream",
     "text": [
      "product of its digit= 0\n"
     ]
    }
   ],
   "source": [
    "n=int(input('enter no.='))\n",
    "product=1\n",
    "while n!=0:\n",
    "    rem=n%10\n",
    "    product=product*rem\n",
    "    n=n//10\n",
    "print('product of its digit=',product)"
   ]
  },
  {
   "cell_type": "markdown",
   "id": "dfaf8499-5d2e-4074-a7c4-066b1f8b47bf",
   "metadata": {},
   "source": [
    "# Create a list of elements like \n",
    "## X=[45,67,12,'hello',23.45,'world']\n",
    "### and perform following operations:"
   ]
  },
  {
   "cell_type": "markdown",
   "id": "1cd7bdcd-7087-43eb-a027-199b3afbee42",
   "metadata": {},
   "source": [
    "##### (1)Extract only String vlues from this list:\n"
   ]
  },
  {
   "cell_type": "code",
   "execution_count": 3,
   "id": "8e07186b-d88c-4aea-a647-87d5b60863f0",
   "metadata": {},
   "outputs": [
    {
     "data": {
      "text/plain": [
       "['hello', 'world']"
      ]
     },
     "execution_count": 3,
     "metadata": {},
     "output_type": "execute_result"
    }
   ],
   "source": [
    "x=[45,67,12,'hello',23.45,'world']\n",
    "[n for n in x if type(n)==str]"
   ]
  },
  {
   "cell_type": "markdown",
   "id": "dfe8cd64-f6f3-4f8f-a60c-56b42758cfdf",
   "metadata": {},
   "source": [
    "##### (2)create a new list with String in upper case "
   ]
  },
  {
   "cell_type": "code",
   "execution_count": 4,
   "id": "cfc31f4c-2f93-4c22-8236-d3d8c82f39a8",
   "metadata": {},
   "outputs": [
    {
     "name": "stdout",
     "output_type": "stream",
     "text": [
      "['HELLO', 'WORLD']\n"
     ]
    }
   ],
   "source": [
    "l1=[n.upper() for n in x if type(n)==str]\n",
    "print(l1)"
   ]
  },
  {
   "cell_type": "markdown",
   "id": "1e79f72d-f86e-4b6f-a903-b2844bfca133",
   "metadata": {},
   "source": [
    "##### (3)Find the addition of integer values"
   ]
  },
  {
   "cell_type": "code",
   "execution_count": 5,
   "id": "65fd8c80-70f2-415f-a2d0-4cdd127b6485",
   "metadata": {},
   "outputs": [
    {
     "name": "stdout",
     "output_type": "stream",
     "text": [
      "124\n"
     ]
    }
   ],
   "source": [
    "add=0\n",
    "for n in x:\n",
    "    if type(n)==int:\n",
    "        add=add+n\n",
    "print(add)"
   ]
  },
  {
   "cell_type": "markdown",
   "id": "d131b415-14dc-4fa8-9075-04ce9464cafc",
   "metadata": {},
   "source": [
    "##### (4)Cheak that the value 56 is present in it or not"
   ]
  },
  {
   "cell_type": "code",
   "execution_count": 6,
   "id": "7a042a97-0440-408e-b631-e182c4a707a9",
   "metadata": {},
   "outputs": [
    {
     "data": {
      "text/plain": [
       "False"
      ]
     },
     "execution_count": 6,
     "metadata": {},
     "output_type": "execute_result"
    }
   ],
   "source": [
    "56 in x"
   ]
  },
  {
   "cell_type": "markdown",
   "id": "cc3644dd-5001-4a82-8646-c6ce76ccb906",
   "metadata": {},
   "source": [
    "##### (5)Print the list in reverse order"
   ]
  },
  {
   "cell_type": "code",
   "execution_count": 7,
   "id": "6fba25ac-a24f-4351-bbbd-ed5b3b6ce7c0",
   "metadata": {},
   "outputs": [
    {
     "name": "stdout",
     "output_type": "stream",
     "text": [
      "['world', 23.45, 'hello', 12, 67, 45]\n"
     ]
    }
   ],
   "source": [
    "x.reverse()\n",
    "print(x)"
   ]
  },
  {
   "cell_type": "markdown",
   "id": "06257d57-70db-44e7-84ab-aaa76c030c15",
   "metadata": {},
   "source": [
    "##### (6)delete the String 'hello' from it"
   ]
  },
  {
   "cell_type": "code",
   "execution_count": 8,
   "id": "884812d3-8520-4ead-a9d1-10831ac0fdd5",
   "metadata": {},
   "outputs": [
    {
     "data": {
      "text/plain": [
       "['world', 23.45, 12, 67, 45]"
      ]
     },
     "execution_count": 8,
     "metadata": {},
     "output_type": "execute_result"
    }
   ],
   "source": [
    "x.remove('hello')\n",
    "x"
   ]
  },
  {
   "cell_type": "markdown",
   "id": "f569fe74-88a3-43a0-adf8-14ae0e949a60",
   "metadata": {},
   "source": [
    "##### (7)insert a new value of 36 at 5th position in list."
   ]
  },
  {
   "cell_type": "code",
   "execution_count": 9,
   "id": "e4920699-6c27-4927-be09-a97dc1bf365a",
   "metadata": {},
   "outputs": [
    {
     "data": {
      "text/plain": [
       "['world', 23.45, 12, 67, 45, 36]"
      ]
     },
     "execution_count": 9,
     "metadata": {},
     "output_type": "execute_result"
    }
   ],
   "source": [
    "x.insert(5,36)\n",
    "x"
   ]
  },
  {
   "cell_type": "markdown",
   "id": "63c8cb35-b435-4b19-8bee-d4d4f37d86d0",
   "metadata": {},
   "source": [
    "##### (8)Count total number of elements in list now\n"
   ]
  },
  {
   "cell_type": "code",
   "execution_count": 10,
   "id": "df19afc8-f4c6-4b83-a6dc-4776317cb2a8",
   "metadata": {},
   "outputs": [
    {
     "data": {
      "text/plain": [
       "6"
      ]
     },
     "execution_count": 10,
     "metadata": {},
     "output_type": "execute_result"
    }
   ],
   "source": [
    "len(x)"
   ]
  },
  {
   "cell_type": "markdown",
   "id": "09577941-e047-4af6-abd9-11019736c7af",
   "metadata": {},
   "source": [
    "##### (9)Extract the values from 2nd index to 5th position in list"
   ]
  },
  {
   "cell_type": "code",
   "execution_count": 11,
   "id": "314b5959-706c-42b3-940c-f9f78541341a",
   "metadata": {},
   "outputs": [
    {
     "data": {
      "text/plain": [
       "[12, 67, 45, 36]"
      ]
     },
     "execution_count": 11,
     "metadata": {},
     "output_type": "execute_result"
    }
   ],
   "source": [
    "x[2:6]"
   ]
  },
  {
   "cell_type": "markdown",
   "id": "a7995b4d-4428-4ef6-8b71-61b490c8e457",
   "metadata": {},
   "source": [
    "##### (10)Append[34,'pune'] to the list"
   ]
  },
  {
   "cell_type": "code",
   "execution_count": 12,
   "id": "6cd0938a-e61f-425f-a8a7-f14b6e59cefa",
   "metadata": {},
   "outputs": [],
   "source": [
    "x.append([34,'pune'])"
   ]
  },
  {
   "cell_type": "code",
   "execution_count": 13,
   "id": "b75d0620-2a8c-478f-b002-cfab828a12ec",
   "metadata": {},
   "outputs": [
    {
     "data": {
      "text/plain": [
       "['world', 23.45, 12, 67, 45, 36, [34, 'pune']]"
      ]
     },
     "execution_count": 13,
     "metadata": {},
     "output_type": "execute_result"
    }
   ],
   "source": [
    "x"
   ]
  },
  {
   "cell_type": "markdown",
   "id": "3740c330-e853-40b8-9932-79aad2485c13",
   "metadata": {},
   "source": [
    "##### (11)Delete the last element from list"
   ]
  },
  {
   "cell_type": "code",
   "execution_count": 14,
   "id": "5878e403-1258-4780-8f1e-a44676d71b00",
   "metadata": {},
   "outputs": [
    {
     "data": {
      "text/plain": [
       "[34, 'pune']"
      ]
     },
     "execution_count": 14,
     "metadata": {},
     "output_type": "execute_result"
    }
   ],
   "source": [
    "x.pop()"
   ]
  },
  {
   "cell_type": "markdown",
   "id": "47ab73fa-4c8d-4c5b-9abb-50a231e7da96",
   "metadata": {},
   "source": [
    "# Create a tuple of elements with 5 float values in it and perform following operations\n",
    "##### suppose the tuple\n",
    "# t=(23.79,10.34,56.90,40.87,32.70)\n",
    "##### (1)print the data in sorted manner."
   ]
  },
  {
   "cell_type": "markdown",
   "id": "8dd21aa1-5f2e-4c8c-bf73-c93cf04f1209",
   "metadata": {},
   "source": [
    "t=(23.79,10.34,56.90,40.87,32.70)"
   ]
  },
  {
   "cell_type": "code",
   "execution_count": 25,
   "id": "14ea4f67-a511-47e1-9ab9-095f1b61e913",
   "metadata": {},
   "outputs": [
    {
     "data": {
      "text/plain": [
       "[10.34, 23.79, 32.7, 40.87, 56.9]"
      ]
     },
     "execution_count": 25,
     "metadata": {},
     "output_type": "execute_result"
    }
   ],
   "source": [
    "sorted(t)"
   ]
  },
  {
   "cell_type": "markdown",
   "id": "43e05f1f-9814-47b0-87a2-106d4e04f67d",
   "metadata": {},
   "source": [
    "##### (2)Cheak to see that the element 50 is present in it."
   ]
  },
  {
   "cell_type": "code",
   "execution_count": 26,
   "id": "b465813d-2a4c-401b-b99e-033d05f03be0",
   "metadata": {},
   "outputs": [
    {
     "data": {
      "text/plain": [
       "False"
      ]
     },
     "execution_count": 26,
     "metadata": {},
     "output_type": "execute_result"
    }
   ],
   "source": [
    "50 in t"
   ]
  },
  {
   "cell_type": "markdown",
   "id": "89739d69-6802-4337-a6bd-f471e893ece6",
   "metadata": {},
   "source": [
    "##### (3)Convert the tuple in set"
   ]
  },
  {
   "cell_type": "code",
   "execution_count": 27,
   "id": "5c4d8fcc-10fa-4d3d-a811-35e8a7de36f3",
   "metadata": {},
   "outputs": [
    {
     "data": {
      "text/plain": [
       "{10.34, 23.79, 32.7, 40.87, 56.9}"
      ]
     },
     "execution_count": 27,
     "metadata": {},
     "output_type": "execute_result"
    }
   ],
   "source": [
    "set(t)"
   ]
  },
  {
   "cell_type": "markdown",
   "id": "ebd4c07f-2f0b-41d3-8b33-da597aede1b0",
   "metadata": {},
   "source": [
    "# 8.Create a dictionary of elements:\n",
    "# {'a':'apple','b':'ball','c':'cat','d':'doll','k':'king}\n",
    "# and perform following operation"
   ]
  },
  {
   "cell_type": "markdown",
   "id": "b145c32b-46d5-4152-9de4-127f5c55bbfd",
   "metadata": {},
   "source": [
    "##### (1)Access the data at key 'k'"
   ]
  },
  {
   "cell_type": "code",
   "execution_count": 31,
   "id": "1baa1835-4d63-4274-9093-304feb907d29",
   "metadata": {},
   "outputs": [],
   "source": [
    "d={'a':'apple','b':'ball','c':'cat','d':'dall','k':'king'}"
   ]
  },
  {
   "cell_type": "code",
   "execution_count": 35,
   "id": "986fa756-532f-4a83-8bc2-06a27823fdd3",
   "metadata": {},
   "outputs": [
    {
     "data": {
      "text/plain": [
       "'king'"
      ]
     },
     "execution_count": 35,
     "metadata": {},
     "output_type": "execute_result"
    }
   ],
   "source": [
    "d['k']"
   ]
  },
  {
   "cell_type": "markdown",
   "id": "376365f3-c0c1-4df8-b359-28425b8f9f90",
   "metadata": {},
   "source": [
    "##### (2)Add a new values 'z':'zebra'"
   ]
  },
  {
   "cell_type": "code",
   "execution_count": 36,
   "id": "2f9b610f-de17-4ccc-8bbb-255bda3c6870",
   "metadata": {},
   "outputs": [],
   "source": [
    "d['z']='zebra'"
   ]
  },
  {
   "cell_type": "code",
   "execution_count": 37,
   "id": "5da46d47-081f-4175-b99e-b73b12330766",
   "metadata": {},
   "outputs": [
    {
     "data": {
      "text/plain": [
       "{'a': 'apple', 'b': 'ball', 'c': 'cat', 'd': 'dall', 'k': 'king', 'z': 'zebra'}"
      ]
     },
     "execution_count": 37,
     "metadata": {},
     "output_type": "execute_result"
    }
   ],
   "source": [
    "d"
   ]
  },
  {
   "cell_type": "markdown",
   "id": "1874b584-af27-4a6d-8105-2a54abd4f526",
   "metadata": {},
   "source": [
    "##### (3)Replace the content of 'd' as 'dog'"
   ]
  },
  {
   "cell_type": "code",
   "execution_count": 38,
   "id": "3d39f486-19fc-4ebf-ab68-9c3df105a640",
   "metadata": {},
   "outputs": [],
   "source": [
    "d['d']='dog'"
   ]
  },
  {
   "cell_type": "code",
   "execution_count": 39,
   "id": "256eedc9-200a-482a-b8c9-3ff90a633f55",
   "metadata": {},
   "outputs": [
    {
     "data": {
      "text/plain": [
       "{'a': 'apple', 'b': 'ball', 'c': 'cat', 'd': 'dog', 'k': 'king', 'z': 'zebra'}"
      ]
     },
     "execution_count": 39,
     "metadata": {},
     "output_type": "execute_result"
    }
   ],
   "source": [
    "d"
   ]
  },
  {
   "cell_type": "markdown",
   "id": "31e1ba9c-82ff-49c3-8d24-103e085756af",
   "metadata": {},
   "source": [
    "##### (4)Print all the values from this dictionary"
   ]
  },
  {
   "cell_type": "code",
   "execution_count": 40,
   "id": "3b8e2e49-1019-4b92-90a8-70d61db4d562",
   "metadata": {},
   "outputs": [
    {
     "data": {
      "text/plain": [
       "dict_values(['apple', 'ball', 'cat', 'dog', 'king', 'zebra'])"
      ]
     },
     "execution_count": 40,
     "metadata": {},
     "output_type": "execute_result"
    }
   ],
   "source": [
    "d.values()"
   ]
  },
  {
   "cell_type": "markdown",
   "id": "a4187978-fbe7-4b92-a0c0-aa136fc42bb5",
   "metadata": {},
   "source": [
    "##### (5)Find the length of this dictionary"
   ]
  },
  {
   "cell_type": "code",
   "execution_count": 42,
   "id": "2ae79081-8acd-4a56-9047-d37efeec32af",
   "metadata": {},
   "outputs": [
    {
     "data": {
      "text/plain": [
       "6"
      ]
     },
     "execution_count": 42,
     "metadata": {},
     "output_type": "execute_result"
    }
   ],
   "source": [
    "len(d)"
   ]
  },
  {
   "cell_type": "markdown",
   "id": "e4a0dc2d-4ca1-46b4-ae5d-f94c9a6285d0",
   "metadata": {},
   "source": [
    "# 9.Write a program to find second largest element in the list"
   ]
  },
  {
   "cell_type": "code",
   "execution_count": 2,
   "id": "1e3b6b0b-5479-4e7a-9fee-79eb89bc0c56",
   "metadata": {},
   "outputs": [],
   "source": [
    "l1=[10,20,90,56,80]"
   ]
  },
  {
   "cell_type": "code",
   "execution_count": 10,
   "id": "0a60f8a8-4e96-46ad-b9a3-b15662bc9674",
   "metadata": {},
   "outputs": [
    {
     "data": {
      "text/plain": [
       "56"
      ]
     },
     "execution_count": 10,
     "metadata": {},
     "output_type": "execute_result"
    }
   ],
   "source": [
    "sorted(l1)\n",
    "l1[-2]"
   ]
  },
  {
   "cell_type": "markdown",
   "id": "08b8bb4e-1c3b-46e5-93df-2cd0191ad740",
   "metadata": {},
   "source": [
    "# 10.This is a list of some metallic  elements.\n",
    "## metals=['silver','gold'....]\n",
    "### Make a new list that is almost identical to the metals list:\n",
    "### the new list contain the same items in the same order except that it does NOT contain the item 'copper'.\n"
   ]
  },
  {
   "cell_type": "code",
   "execution_count": 1,
   "id": "a592690a-4291-4857-82db-350fe5a338a6",
   "metadata": {},
   "outputs": [],
   "source": [
    "list=['silver','gold','copper','mercury','iron','lead']\n",
    "new_list=[n for n in list if n!='copper']"
   ]
  },
  {
   "cell_type": "code",
   "execution_count": 2,
   "id": "c3defa60-a0a2-4ec0-a436-20b3bc581bf0",
   "metadata": {},
   "outputs": [
    {
     "data": {
      "text/plain": [
       "['silver', 'gold', 'mercury', 'iron', 'lead']"
      ]
     },
     "execution_count": 2,
     "metadata": {},
     "output_type": "execute_result"
    }
   ],
   "source": [
    "new_list"
   ]
  },
  {
   "cell_type": "code",
   "execution_count": null,
   "id": "a202e2b9-4590-414c-9f58-68736fd9b264",
   "metadata": {},
   "outputs": [],
   "source": []
  }
 ],
 "metadata": {
  "kernelspec": {
   "display_name": "Python 3 (ipykernel)",
   "language": "python",
   "name": "python3"
  },
  "language_info": {
   "codemirror_mode": {
    "name": "ipython",
    "version": 3
   },
   "file_extension": ".py",
   "mimetype": "text/x-python",
   "name": "python",
   "nbconvert_exporter": "python",
   "pygments_lexer": "ipython3",
   "version": "3.11.7"
  }
 },
 "nbformat": 4,
 "nbformat_minor": 5
}
